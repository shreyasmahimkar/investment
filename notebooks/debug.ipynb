{
 "cells": [
  {
   "cell_type": "code",
   "execution_count": 1,
   "metadata": {},
   "outputs": [],
   "source": [
    "from flask import *\n",
    "import pandas as pd\n",
    "app = Flask(__name__)\n",
    "import json\n",
    "import urllib3\n",
    "from datetime import datetime\n",
    "from IPython.core.interactiveshell import InteractiveShell\n",
    "InteractiveShell.ast_node_interactivity = \"all\"\n",
    "from forex_python.converter import CurrencyRates"
   ]
  },
  {
   "cell_type": "code",
   "execution_count": 5,
   "metadata": {},
   "outputs": [
    {
     "data": {
      "text/plain": [
       "63.517"
      ]
     },
     "execution_count": 5,
     "metadata": {},
     "output_type": "execute_result"
    }
   ],
   "source": [
    "c = CurrencyRates()\n",
    "c.get_rate('USD', 'INR')"
   ]
  },
  {
   "cell_type": "code",
   "execution_count": 13,
   "metadata": {},
   "outputs": [
    {
     "name": "stderr",
     "output_type": "stream",
     "text": [
      "/Users/smahimkar/Desktop/invest/investment/flask_env/lib/python3.5/site-packages/urllib3/connectionpool.py:858: InsecureRequestWarning: Unverified HTTPS request is being made. Adding certificate verification is strongly advised. See: https://urllib3.readthedocs.io/en/latest/advanced-usage.html#ssl-warnings\n",
      "  InsecureRequestWarning)\n",
      "/Users/smahimkar/Desktop/invest/investment/flask_env/lib/python3.5/site-packages/pandas/core/generic.py:3643: SettingWithCopyWarning: \n",
      "A value is trying to be set on a copy of a slice from a DataFrame.\n",
      "Try using .loc[row_indexer,col_indexer] = value instead\n",
      "\n",
      "See the caveats in the documentation: http://pandas.pydata.org/pandas-docs/stable/indexing.html#indexing-view-versus-copy\n",
      "  self[name] = value\n"
     ]
    }
   ],
   "source": [
    "# Get Todays date\n",
    "i = datetime.now()\n",
    "now = i.strftime('%Y-%m-%d ')\n",
    "\n",
    "data = pd.read_excel('/Users/smahimkar/Desktop/invest/investment/invest_tables/data.xlsx')\n",
    "#data.set_index(['Name'], inplace=True)\n",
    "#data.index.name=None\n",
    "cryptocurrency_temp = data.loc[data.Type == 'Cryptocurrency']\n",
    "## Get todays Value of cryptocurrencies\n",
    "http = urllib3.PoolManager()\n",
    "r = http.request('GET', 'https://api.coinmarketcap.com/v1/ticker/')\n",
    "all_data = json.loads(r.data.decode('utf-8'))\n",
    "all_data_df = pd.DataFrame(all_data)\n",
    "cryptocurrency_popular = cryptocurrency_temp.merge(all_data_df[['id','price_usd']],left_on='Name',right_on='id',how='inner')\n",
    "cryptocurrency_popular.Units = cryptocurrency_popular.Units.apply(float)\n",
    "cryptocurrency_popular.price_usd = cryptocurrency_popular.price_usd.apply(float)\n",
    "cryptocurrency_popular.Todays_Value = cryptocurrency_popular.price_usd * cryptocurrency_popular.Units\n",
    "cryptocurrency_popular.drop(['id','price_usd'],axis=1,inplace=True)\n",
    "cryptocurrency_popular.Maturity_Date = now\n",
    "\n",
    "cryptocurrency_ico = cryptocurrency_temp[~cryptocurrency_temp.Name.isin(cryptocurrency_popular.Name.unique())]\n",
    "cryptocurrency_ico.Maturity_Date = 'TBD'\n",
    "cryptocurrency_final = pd.concat([cryptocurrency_popular,cryptocurrency_ico])\n",
    "\n",
    "deposit_temp = data.loc[data.Type == 'Deposit']\n",
    "deposit_temp.Currency = 'USD'\n",
    "deposit_temp.Money_Invested = deposit_temp.Money_Invested / c.get_rate('USD', 'INR')\n",
    "deposit_temp.Todays_Value = deposit_temp.Todays_Value /  c.get_rate('USD', 'INR')\n",
    "\n",
    "new_data = pd.concat([cryptocurrency_final,deposit_temp])\n",
    "# new_data.set_index(['Name'], inplace=True)\n",
    "# new_data.index.name=None\n",
    "# cryptocurrency = new_data.loc[new_data.Type == 'Cryptocurrency']\n",
    "# deposit = new_data.loc[new_data.Type == 'Deposit']"
   ]
  },
  {
   "cell_type": "code",
   "execution_count": 14,
   "metadata": {},
   "outputs": [
    {
     "data": {
      "text/html": [
       "<div>\n",
       "<style scoped>\n",
       "    .dataframe tbody tr th:only-of-type {\n",
       "        vertical-align: middle;\n",
       "    }\n",
       "\n",
       "    .dataframe tbody tr th {\n",
       "        vertical-align: top;\n",
       "    }\n",
       "\n",
       "    .dataframe thead th {\n",
       "        text-align: right;\n",
       "    }\n",
       "</style>\n",
       "<table border=\"1\" class=\"dataframe\">\n",
       "  <thead>\n",
       "    <tr style=\"text-align: right;\">\n",
       "      <th></th>\n",
       "      <th>Units</th>\n",
       "      <th>Currency</th>\n",
       "      <th>Money_Invested</th>\n",
       "      <th>Todays_Value</th>\n",
       "      <th>Date_of_Investment</th>\n",
       "      <th>Maturity_Date</th>\n",
       "      <th>Link</th>\n",
       "      <th>Type</th>\n",
       "    </tr>\n",
       "  </thead>\n",
       "  <tbody>\n",
       "    <tr>\n",
       "      <th>icici_rd</th>\n",
       "      <td>NaN</td>\n",
       "      <td>USD</td>\n",
       "      <td>4723.144985</td>\n",
       "      <td>4902.404081</td>\n",
       "      <td>2017-07-03</td>\n",
       "      <td>2018-07-03 00:00:00</td>\n",
       "      <td>https://www.icicibank.com</td>\n",
       "      <td>Deposit</td>\n",
       "    </tr>\n",
       "  </tbody>\n",
       "</table>\n",
       "</div>"
      ],
      "text/plain": [
       "          Units Currency  Money_Invested  Todays_Value Date_of_Investment  \\\n",
       "icici_rd    NaN      USD     4723.144985   4902.404081         2017-07-03   \n",
       "\n",
       "                Maturity_Date                       Link     Type  \n",
       "icici_rd  2018-07-03 00:00:00  https://www.icicibank.com  Deposit  "
      ]
     },
     "execution_count": 14,
     "metadata": {},
     "output_type": "execute_result"
    }
   ],
   "source": [
    "deposit"
   ]
  },
  {
   "cell_type": "code",
   "execution_count": 18,
   "metadata": {},
   "outputs": [
    {
     "data": {
      "text/html": [
       "<div>\n",
       "<style scoped>\n",
       "    .dataframe tbody tr th:only-of-type {\n",
       "        vertical-align: middle;\n",
       "    }\n",
       "\n",
       "    .dataframe tbody tr th {\n",
       "        vertical-align: top;\n",
       "    }\n",
       "\n",
       "    .dataframe thead th {\n",
       "        text-align: right;\n",
       "    }\n",
       "</style>\n",
       "<table border=\"1\" class=\"dataframe\">\n",
       "  <thead>\n",
       "    <tr style=\"text-align: right;\">\n",
       "      <th></th>\n",
       "      <th>Currency</th>\n",
       "      <th>Todays_Value</th>\n",
       "      <th>Money_Invested</th>\n",
       "    </tr>\n",
       "  </thead>\n",
       "  <tbody>\n",
       "    <tr>\n",
       "      <th>0</th>\n",
       "      <td>USD</td>\n",
       "      <td>6204.499658</td>\n",
       "      <td>5831.744985</td>\n",
       "    </tr>\n",
       "  </tbody>\n",
       "</table>\n",
       "</div>"
      ],
      "text/plain": [
       "  Currency  Todays_Value  Money_Invested\n",
       "0      USD   6204.499658     5831.744985"
      ]
     },
     "execution_count": 18,
     "metadata": {},
     "output_type": "execute_result"
    }
   ],
   "source": [
    "total = new_data.groupby('Currency').agg({'Money_Invested':'sum','Todays_Value':'sum'}).reset_index()\n",
    "total"
   ]
  },
  {
   "cell_type": "code",
   "execution_count": 11,
   "metadata": {},
   "outputs": [
    {
     "data": {
      "text/plain": [
       "5831.744984807217"
      ]
     },
     "execution_count": 11,
     "metadata": {},
     "output_type": "execute_result"
    }
   ],
   "source": [
    "new_data.Money_Invested.sum()\n",
    "new_data.Money_Invested.sum()"
   ]
  },
  {
   "cell_type": "code",
   "execution_count": 55,
   "metadata": {},
   "outputs": [],
   "source": []
  },
  {
   "cell_type": "code",
   "execution_count": null,
   "metadata": {},
   "outputs": [],
   "source": []
  }
 ],
 "metadata": {
  "kernelspec": {
   "display_name": "Python 3",
   "language": "python",
   "name": "python3"
  },
  "language_info": {
   "codemirror_mode": {
    "name": "ipython",
    "version": 3
   },
   "file_extension": ".py",
   "mimetype": "text/x-python",
   "name": "python",
   "nbconvert_exporter": "python",
   "pygments_lexer": "ipython3",
   "version": "3.5.2"
  }
 },
 "nbformat": 4,
 "nbformat_minor": 2
}
