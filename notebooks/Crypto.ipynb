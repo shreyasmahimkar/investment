{
 "cells": [
  {
   "cell_type": "code",
   "execution_count": 36,
   "metadata": {},
   "outputs": [],
   "source": [
    "import pandas as pd\n",
    "pd.set_option('precision', 6)\n",
    "import numpy as np\n",
    "# printing options \n",
    "np.set_printoptions(linewidth=250)\n",
    "np.set_printoptions(precision=3)\n",
    "pd.set_option('display.max_rows', 500)\n",
    "pd.set_option('display.max_columns', 500)\n",
    "pd.set_option('precision', 6)\n",
    "pd.set_option('max_colwidth',500)\n",
    "pd.set_option('display.float_format', lambda x: '{:,.2f}'.format(x))\n"
   ]
  },
  {
   "cell_type": "code",
   "execution_count": 37,
   "metadata": {},
   "outputs": [
    {
     "name": "stderr",
     "output_type": "stream",
     "text": [
      "/Users/smahimkar/Desktop/invest/investment/p3/lib/python3.5/site-packages/urllib3/connectionpool.py:858: InsecureRequestWarning: Unverified HTTPS request is being made. Adding certificate verification is strongly advised. See: https://urllib3.readthedocs.io/en/latest/advanced-usage.html#ssl-warnings\n",
      "  InsecureRequestWarning)\n"
     ]
    }
   ],
   "source": [
    "import json\n",
    "import urllib3\n",
    "http = urllib3.PoolManager()\n",
    "r = http.request('GET', 'https://api.coinmarketcap.com/v1/ticker/')"
   ]
  },
  {
   "cell_type": "code",
   "execution_count": 38,
   "metadata": {},
   "outputs": [],
   "source": [
    "all_data = json.loads(r.data.decode('utf-8'))"
   ]
  },
  {
   "cell_type": "code",
   "execution_count": 39,
   "metadata": {},
   "outputs": [],
   "source": [
    "all_data_df = pd.DataFrame(all_data)"
   ]
  },
  {
   "cell_type": "code",
   "execution_count": 40,
   "metadata": {},
   "outputs": [
    {
     "data": {
      "text/html": [
       "<div>\n",
       "<style scoped>\n",
       "    .dataframe tbody tr th:only-of-type {\n",
       "        vertical-align: middle;\n",
       "    }\n",
       "\n",
       "    .dataframe tbody tr th {\n",
       "        vertical-align: top;\n",
       "    }\n",
       "\n",
       "    .dataframe thead th {\n",
       "        text-align: right;\n",
       "    }\n",
       "</style>\n",
       "<table border=\"1\" class=\"dataframe\">\n",
       "  <thead>\n",
       "    <tr style=\"text-align: right;\">\n",
       "      <th></th>\n",
       "      <th>24h_volume_usd</th>\n",
       "      <th>available_supply</th>\n",
       "      <th>id</th>\n",
       "      <th>last_updated</th>\n",
       "      <th>market_cap_usd</th>\n",
       "      <th>max_supply</th>\n",
       "      <th>name</th>\n",
       "      <th>percent_change_1h</th>\n",
       "      <th>percent_change_24h</th>\n",
       "      <th>percent_change_7d</th>\n",
       "      <th>price_btc</th>\n",
       "      <th>price_usd</th>\n",
       "      <th>rank</th>\n",
       "      <th>symbol</th>\n",
       "      <th>total_supply</th>\n",
       "    </tr>\n",
       "  </thead>\n",
       "  <tbody>\n",
       "    <tr>\n",
       "      <th>0</th>\n",
       "      <td>16221400000.0</td>\n",
       "      <td>16792375.0</td>\n",
       "      <td>bitcoin</td>\n",
       "      <td>1515531262</td>\n",
       "      <td>250951968950</td>\n",
       "      <td>21000000.0</td>\n",
       "      <td>Bitcoin</td>\n",
       "      <td>0.02</td>\n",
       "      <td>-1.8</td>\n",
       "      <td>1.51</td>\n",
       "      <td>1.0</td>\n",
       "      <td>14944.4</td>\n",
       "      <td>1</td>\n",
       "      <td>BTC</td>\n",
       "      <td>16792375.0</td>\n",
       "    </tr>\n",
       "    <tr>\n",
       "      <th>1</th>\n",
       "      <td>7078920000.0</td>\n",
       "      <td>96876494.0</td>\n",
       "      <td>ethereum</td>\n",
       "      <td>1515531249</td>\n",
       "      <td>121293245664</td>\n",
       "      <td>None</td>\n",
       "      <td>Ethereum</td>\n",
       "      <td>2.35</td>\n",
       "      <td>8.16</td>\n",
       "      <td>41.07</td>\n",
       "      <td>0.0839341</td>\n",
       "      <td>1252.04</td>\n",
       "      <td>2</td>\n",
       "      <td>ETH</td>\n",
       "      <td>96876494.0</td>\n",
       "    </tr>\n",
       "    <tr>\n",
       "      <th>2</th>\n",
       "      <td>3383660000.0</td>\n",
       "      <td>38739144847.0</td>\n",
       "      <td>ripple</td>\n",
       "      <td>1515531241</td>\n",
       "      <td>86706728779.0</td>\n",
       "      <td>100000000000</td>\n",
       "      <td>Ripple</td>\n",
       "      <td>-0.5</td>\n",
       "      <td>-11.17</td>\n",
       "      <td>-7.84</td>\n",
       "      <td>0.00015005</td>\n",
       "      <td>2.23822</td>\n",
       "      <td>3</td>\n",
       "      <td>XRP</td>\n",
       "      <td>99993093880.0</td>\n",
       "    </tr>\n",
       "  </tbody>\n",
       "</table>\n",
       "</div>"
      ],
      "text/plain": [
       "  24h_volume_usd available_supply        id last_updated market_cap_usd  \\\n",
       "0  16221400000.0       16792375.0   bitcoin   1515531262   250951968950   \n",
       "1   7078920000.0       96876494.0  ethereum   1515531249   121293245664   \n",
       "2   3383660000.0    38739144847.0    ripple   1515531241  86706728779.0   \n",
       "\n",
       "     max_supply      name percent_change_1h percent_change_24h  \\\n",
       "0    21000000.0   Bitcoin              0.02               -1.8   \n",
       "1          None  Ethereum              2.35               8.16   \n",
       "2  100000000000    Ripple              -0.5             -11.17   \n",
       "\n",
       "  percent_change_7d   price_btc price_usd rank symbol   total_supply  \n",
       "0              1.51         1.0   14944.4    1    BTC     16792375.0  \n",
       "1             41.07   0.0839341   1252.04    2    ETH     96876494.0  \n",
       "2             -7.84  0.00015005   2.23822    3    XRP  99993093880.0  "
      ]
     },
     "execution_count": 40,
     "metadata": {},
     "output_type": "execute_result"
    }
   ],
   "source": [
    "all_data_df.query(\"id in ('bitcoin','ripple','ethereum')\")"
   ]
  },
  {
   "cell_type": "code",
   "execution_count": null,
   "metadata": {},
   "outputs": [],
   "source": []
  }
 ],
 "metadata": {
  "kernelspec": {
   "display_name": "Python 3",
   "language": "python",
   "name": "python3"
  },
  "language_info": {
   "codemirror_mode": {
    "name": "ipython",
    "version": 3
   },
   "file_extension": ".py",
   "mimetype": "text/x-python",
   "name": "python",
   "nbconvert_exporter": "python",
   "pygments_lexer": "ipython3",
   "version": "3.5.2"
  }
 },
 "nbformat": 4,
 "nbformat_minor": 2
}
